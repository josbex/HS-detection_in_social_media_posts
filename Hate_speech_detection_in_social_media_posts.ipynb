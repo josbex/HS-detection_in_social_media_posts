{
  "nbformat": 4,
  "nbformat_minor": 0,
  "metadata": {
    "colab": {
      "name": "Hate_speech_detection_in_social_media_posts.ipynb",
      "provenance": [],
      "collapsed_sections": [],
      "authorship_tag": "ABX9TyNP5bD3Nh7Q1hj6biF0n3v0",
      "include_colab_link": true
    },
    "kernelspec": {
      "name": "python3",
      "display_name": "Python 3"
    },
    "accelerator": "GPU"
  },
  "cells": [
    {
      "cell_type": "markdown",
      "metadata": {
        "id": "view-in-github",
        "colab_type": "text"
      },
      "source": [
        "<a href=\"https://colab.research.google.com/github/josbex/HS-detection_in_social_media_posts/blob/master/Hate_speech_detection_in_social_media_posts.ipynb\" target=\"_parent\"><img src=\"https://colab.research.google.com/assets/colab-badge.svg\" alt=\"Open In Colab\"/></a>"
      ]
    },
    {
      "cell_type": "markdown",
      "metadata": {
        "id": "ebRJLK5pFEIW",
        "colab_type": "text"
      },
      "source": [
        "#Hate Speech detection in social media posts"
      ]
    },
    {
      "cell_type": "markdown",
      "metadata": {
        "id": "niGmOfM5MQ_w",
        "colab_type": "text"
      },
      "source": [
        "##Neccessary imports"
      ]
    },
    {
      "cell_type": "code",
      "metadata": {
        "id": "kMLxwf4dLCT1",
        "colab_type": "code",
        "colab": {}
      },
      "source": [
        "import tensorflow as tf\n",
        "import torch\n",
        "import pandas as  pd\n",
        "import numpy as np\n",
        "import matplotlib.pyplot as plt"
      ],
      "execution_count": 1,
      "outputs": []
    },
    {
      "cell_type": "code",
      "metadata": {
        "id": "1fz6YvSAMV1e",
        "colab_type": "code",
        "colab": {}
      },
      "source": [
        "import time\n",
        "import datetime\n",
        "import collections\n",
        "import random\n",
        "from sklearn.metrics import f1_score, confusion_matrix\n",
        "import csv\n",
        "import os"
      ],
      "execution_count": 3,
      "outputs": []
    },
    {
      "cell_type": "markdown",
      "metadata": {
        "id": "4ZixYXbbewRl",
        "colab_type": "text"
      },
      "source": [
        "## Using GPU for training BERT model\n",
        "\n",
        "Go to: Edit -> Notebook settinngs -> Hardware accelerator -> (GPU)"
      ]
    },
    {
      "cell_type": "code",
      "metadata": {
        "id": "KnchHIGhe2IV",
        "colab_type": "code",
        "colab": {
          "base_uri": "https://localhost:8080/",
          "height": 35
        },
        "outputId": "23c3d1cb-fc9c-47b7-fb80-638d8dc6c942"
      },
      "source": [
        "# Get the GPU device name.\n",
        "device_name = tf.test.gpu_device_name()\n",
        "\n",
        "# The device name should look like the following:\n",
        "if device_name == '/device:GPU:0':\n",
        "    print('Found GPU at: {}'.format(device_name))\n",
        "else:\n",
        "    raise SystemError('GPU device not found')\n"
      ],
      "execution_count": 4,
      "outputs": [
        {
          "output_type": "stream",
          "text": [
            "Found GPU at: /device:GPU:0\n"
          ],
          "name": "stdout"
        }
      ]
    },
    {
      "cell_type": "code",
      "metadata": {
        "id": "oerwfJaHfO-1",
        "colab_type": "code",
        "colab": {
          "base_uri": "https://localhost:8080/",
          "height": 54
        },
        "outputId": "d334bc8b-e350-41e7-fe5d-10deae3b7616"
      },
      "source": [
        "# If there's a GPU available...\n",
        "if torch.cuda.is_available():    \n",
        "\n",
        "    # Tell PyTorch to use the GPU.    \n",
        "    device = torch.device(\"cuda\")\n",
        "\n",
        "    print('There are %d GPU(s) available.' % torch.cuda.device_count())\n",
        "\n",
        "    print('We will use the GPU:', torch.cuda.get_device_name(0))\n",
        "\n",
        "# If not...\n",
        "else:\n",
        "    print('No GPU available, using the CPU instead.')\n",
        "    device = torch.device(\"cpu\")"
      ],
      "execution_count": 5,
      "outputs": [
        {
          "output_type": "stream",
          "text": [
            "There are 1 GPU(s) available.\n",
            "We will use the GPU: Tesla K80\n"
          ],
          "name": "stdout"
        }
      ]
    },
    {
      "cell_type": "markdown",
      "metadata": {
        "id": "wpprsVDOFzee",
        "colab_type": "text"
      },
      "source": [
        "## Dataset\n",
        "\n",
        "The dataset needs to be loaded from the drive (this entails the dataset is in your drive). If so, just run the cell below and follow the link to get an authorization code. "
      ]
    },
    {
      "cell_type": "code",
      "metadata": {
        "id": "ShEoz1diF3Wq",
        "colab_type": "code",
        "colab": {
          "base_uri": "https://localhost:8080/",
          "height": 35
        },
        "outputId": "0aa85ec2-e346-4731-e982-1df84a4b778b"
      },
      "source": [
        "from google.colab import drive\n",
        "drive.mount('/content/gdrive')"
      ],
      "execution_count": 6,
      "outputs": [
        {
          "output_type": "stream",
          "text": [
            "Drive already mounted at /content/gdrive; to attempt to forcibly remount, call drive.mount(\"/content/gdrive\", force_remount=True).\n"
          ],
          "name": "stdout"
        }
      ]
    },
    {
      "cell_type": "code",
      "metadata": {
        "id": "91OCXwt5ARHY",
        "colab_type": "code",
        "colab": {}
      },
      "source": [
        "def get_dataset(filename):\n",
        "  df = pd.read_csv(\"/content/gdrive/My Drive/thesis/dataset/\" + filename +\".tsv\", sep=\"\\t\") \n",
        "  #Saving tweets and their labels as numpy arrays\n",
        "  tweets = df.tweet.values\n",
        "  labels = df.label.values\n",
        "  return tweets, labels"
      ],
      "execution_count": 7,
      "outputs": []
    },
    {
      "cell_type": "markdown",
      "metadata": {
        "id": "R-4K5HOcj_xW",
        "colab_type": "text"
      },
      "source": [
        "##Read dataset from github \n",
        "Just specify the url of the file to read.\n",
        "\n",
        "90/10 split training data: https://raw.githubusercontent.com/josbex/HS-detection_in_social_media_posts/master/data/90_training_data.tsv\n",
        "\n",
        "90/10 split validation data: https://raw.githubusercontent.com/josbex/HS-detection_in_social_media_posts/master/data/10_val_data.tsv\n",
        "\n",
        "test data: https://raw.githubusercontent.com/josbex/HS-detection_in_social_media_posts/master/data/test_data.tsv"
      ]
    },
    {
      "cell_type": "code",
      "metadata": {
        "id": "roOggpizjwGY",
        "colab_type": "code",
        "colab": {}
      },
      "source": [
        "def get_dataset_from_github(url):\n",
        "  df = pd.read_csv(url, sep=\"\\t\") \n",
        "  #Saving tweets and their labels as numpy arrays\n",
        "  tweets = df.tweet.values\n",
        "  labels = df.label.values\n",
        "  return tweets, labels"
      ],
      "execution_count": 8,
      "outputs": []
    },
    {
      "cell_type": "markdown",
      "metadata": {
        "id": "GQ0qop1O5Axx",
        "colab_type": "text"
      },
      "source": [
        "##Save fine-tuned model"
      ]
    },
    {
      "cell_type": "code",
      "metadata": {
        "id": "n1qreBEgwW_n",
        "colab_type": "code",
        "colab": {}
      },
      "source": [
        "#TODO: for some reason the function doesn't work when passing the directory to save in\n",
        "def save_model(model):\n",
        "  # Saving best-practices: if you use defaults names for the model, you can reload it using from_pretrained()\n",
        "  output_dir = './model_save/'\n",
        "\n",
        "  # Create output directory if needed\n",
        "  if not os.path.exists(output_dir):\n",
        "      os.makedirs(output_dir)\n",
        "\n",
        "  print(\"Saving model to %s\" % output_dir)\n",
        "\n",
        "  # Save a trained model, configuration and tokenizer using `save_pretrained()`.\n",
        "  # They can then be reloaded using `from_pretrained()`\n",
        "  model_to_save = model.module if hasattr(model, 'module') else model  # Take care of distributed/parallel training\n",
        "  model_to_save.save_pretrained(output_dir)\n",
        "  tokenizer.save_pretrained(output_dir)\n",
        "\n",
        "  # Copy the model files to a directory in your Google Drive.\n",
        "  #!cp -r ./model_save/ \"./gdrive/My Drive/thesis/model/learn_rate_3\"\n",
        "  !cp -r ./model_save/ \"./gdrive/My Drive/thesis/model/new_training_round/best_model\""
      ],
      "execution_count": 9,
      "outputs": []
    },
    {
      "cell_type": "markdown",
      "metadata": {
        "id": "j3nnfovb43A9",
        "colab_type": "text"
      },
      "source": [
        "##Load saved model"
      ]
    },
    {
      "cell_type": "code",
      "metadata": {
        "id": "nF9XmJplmvMo",
        "colab_type": "code",
        "colab": {}
      },
      "source": [
        "# Load a trained model and vocabulary that you have fine-tuned\n",
        "def load_model(dir):\n",
        "  output_dir = \"./gdrive/My Drive/thesis/model/\" + dir\n",
        "  model = BertForSequenceClassification.from_pretrained(output_dir)\n",
        "  tokenizer = BertTokenizer.from_pretrained(output_dir)\n",
        "  # Copy the model to the GPU.\n",
        "  model.to(device)\n",
        "  return model, tokenizer"
      ],
      "execution_count": 10,
      "outputs": []
    },
    {
      "cell_type": "markdown",
      "metadata": {
        "id": "SCWAXqqNPht2",
        "colab_type": "text"
      },
      "source": [
        "##Helper functions for testing the model"
      ]
    },
    {
      "cell_type": "code",
      "metadata": {
        "id": "0sNm47K1gKHD",
        "colab_type": "code",
        "colab": {}
      },
      "source": [
        "# Function to calculate the accuracy of our predictions vs labels\n",
        "def flat_accuracy(preds, labels):\n",
        "  #Get the highest predicions per tweet, and turn the result into a 1d list \n",
        "  pred_flat = np.argmax(preds, axis=1).flatten()\n",
        "  labels_flat = labels.flatten()\n",
        "  #sum up element-wise comparisons to calculate the average accuracy\n",
        "  return np.sum(pred_flat == labels_flat) / len(labels_flat)"
      ],
      "execution_count": 11,
      "outputs": []
    },
    {
      "cell_type": "code",
      "metadata": {
        "id": "Y8UjvATRgSKJ",
        "colab_type": "code",
        "colab": {}
      },
      "source": [
        "def format_time(elapsed):\n",
        "    '''\n",
        "    Takes a time in seconds and returns a string hh:mm:ss\n",
        "    '''\n",
        "    # Round to the nearest second.\n",
        "    elapsed_rounded = int(round((elapsed)))\n",
        "    \n",
        "    # Format as hh:mm:ss\n",
        "    return str(datetime.timedelta(seconds=elapsed_rounded))"
      ],
      "execution_count": 12,
      "outputs": []
    },
    {
      "cell_type": "code",
      "metadata": {
        "id": "ZKAdylWfkcPb",
        "colab_type": "code",
        "colab": {}
      },
      "source": [
        "def prepare_test_data(batch_size, tokenizer):\n",
        "  #tweets, labels = get_dataset('test_data')\n",
        "  tweets, labels = get_dataset_from_github('https://raw.githubusercontent.com/josbex/HS-detection_in_social_media_posts/master/data/test_data.tsv')\n",
        "  print(\"len tweets:\" , len(tweets))\n",
        "  print(\"len labels:\" , len(labels))\n",
        "\n",
        "  # Tokenize all of the sentences and map the tokens to thier word IDs.\n",
        "  input_ids = []\n",
        "  attention_masks = []\n",
        "\n",
        "  # For every sentence...\n",
        "  for tweet in tweets:\n",
        "      # `encode_plus` will:\n",
        "      #   (1) Tokenize the sentence.\n",
        "      #   (2) Prepend the `[CLS]` token to the start.\n",
        "      #   (3) Append the `[SEP]` token to the end.\n",
        "      #   (4) Map tokens to their IDs.\n",
        "      #   (5) Pad or truncate the sentence to `max_length`\n",
        "      #   (6) Create attention masks for [PAD] tokens.\n",
        "      encoded_dict = tokenizer.encode_plus(\n",
        "                          tweet,                      # Sentence to encode.\n",
        "                          add_special_tokens = True, # Add '[CLS]' and '[SEP]'\n",
        "                          truncation=True,\n",
        "                          max_length = 152,           # Pad & truncate all sentences. #used to be 152\n",
        "                          pad_to_max_length = True,\n",
        "                          return_attention_mask = True,   # Construct attn. masks.\n",
        "                          return_tensors = 'pt',     # Return pytorch tensors.\n",
        "                    )\n",
        "      \n",
        "      # Add the encoded sentence to the list.    \n",
        "      input_ids.append(encoded_dict['input_ids'])\n",
        "      \n",
        "      # And its attention mask (simply differentiates padding from non-padding).\n",
        "      attention_masks.append(encoded_dict['attention_mask'])\n",
        "\n",
        "  # Convert the lists into tensors.\n",
        "  input_ids = torch.cat(input_ids, dim=0)\n",
        "  attention_masks = torch.cat(attention_masks, dim=0)\n",
        "  labels = torch.tensor(labels)\n",
        "\n",
        "  # Set the batch size.  \n",
        "  batch_size = batch_size  \n",
        "\n",
        "  # Create the DataLoader.\n",
        "  prediction_data = TensorDataset(input_ids, attention_masks, labels)\n",
        "  prediction_sampler = SequentialSampler(prediction_data)\n",
        "  prediction_dataloader = DataLoader(prediction_data, sampler=prediction_sampler, batch_size=batch_size)\n",
        "  return prediction_dataloader, len(tweets)"
      ],
      "execution_count": 13,
      "outputs": []
    },
    {
      "cell_type": "code",
      "metadata": {
        "id": "-6_2ipEllFyj",
        "colab_type": "code",
        "colab": {}
      },
      "source": [
        "def test(batch_size, model, tokenizer):\n",
        "  prediction_dataloader, nrOfTweets = prepare_test_data(batch_size, tokenizer)\n",
        "  test_total_accuracy = 0\n",
        "  test_total_f1_score = 0\n",
        "\n",
        "  print('Predicting labels for {:,} test tweets...'.format(nrOfTweets))\n",
        "\n",
        "  # Put model in evaluation mode\n",
        "  model.eval()\n",
        "\n",
        "  # Tracking variables \n",
        "  predictions , true_labels = [], []\n",
        "\n",
        "  # Predict \n",
        "  for batch in prediction_dataloader:\n",
        "    # Add batch to GPU\n",
        "    batch = tuple(t.to(device) for t in batch)\n",
        "    \n",
        "    # Unpack the inputs from our dataloader\n",
        "    b_input_ids, b_input_mask, b_labels = batch\n",
        "    \n",
        "    # Telling the model not to compute or store gradients, saving memory and \n",
        "    # speeding up prediction\n",
        "    with torch.no_grad():\n",
        "        # Forward pass, calculate logit predictions\n",
        "        outputs = model(b_input_ids, token_type_ids=None, \n",
        "                        attention_mask=b_input_mask)\n",
        "\n",
        "    logits = outputs[0]\n",
        "\n",
        "    # Move logits and labels to CPU\n",
        "    logits = logits.detach().cpu().numpy()\n",
        "    label_ids = b_labels.to('cpu').numpy()\n",
        "\n",
        "    # Store predictions and true labels\n",
        "    predictions.append(logits)\n",
        "    true_labels.append(label_ids)\n",
        "\n",
        "  print('DONE.')\n",
        "  return predictions, true_labels"
      ],
      "execution_count": 14,
      "outputs": []
    },
    {
      "cell_type": "code",
      "metadata": {
        "id": "JNMwk1s63R8C",
        "colab_type": "code",
        "colab": {}
      },
      "source": [
        "def get_test_accuracy_and_f1_score(predictions, true_labels):\n",
        "  # Combine the results across all batches. \n",
        "  flat_predictions = np.concatenate(predictions, axis=0)\n",
        "  # Combine the correct labels for each batch into a single list.\n",
        "  flat_true_labels = np.concatenate(true_labels, axis=0)\n",
        "  test_accuracy = flat_accuracy(flat_predictions, flat_true_labels)\n",
        "  # For each sample, pick the label (0 or 1) with the higher score.\n",
        "  flat_predictions = np.argmax(flat_predictions, axis=1).flatten()\n",
        "  test_f1_score = f1_score(flat_true_labels, flat_predictions, average='macro')\n",
        "  return test_accuracy, test_f1_score\n",
        "\n",
        "def predictions_flattened(predictions):\n",
        "  flat_predictions = np.concatenate(predictions, axis=0)\n",
        "  flat_predictions = np.argmax(flat_predictions, axis=1).flatten()\n",
        "  return flat_predictions\n",
        "\n",
        "def true_labels_flattened(true_labels):\n",
        "  return np.concatenate(true_labels, axis=0)"
      ],
      "execution_count": 15,
      "outputs": []
    },
    {
      "cell_type": "markdown",
      "metadata": {
        "id": "ObJOcAbQKeys",
        "colab_type": "text"
      },
      "source": [
        "## BERT Tokenization \n",
        "\n"
      ]
    },
    {
      "cell_type": "code",
      "metadata": {
        "id": "PQ_RSvVzKiZQ",
        "colab_type": "code",
        "colab": {
          "base_uri": "https://localhost:8080/",
          "height": 366
        },
        "outputId": "7eaaf7e2-044c-47b6-9f66-5fd51e5be029"
      },
      "source": [
        "!pip install transformers\n",
        "\n",
        "from transformers import BertTokenizer\n",
        "# OPTIONAL: if you want to have more information on what's happening under the hood, activate the logger as follows\n",
        "import logging\n",
        "logging.basicConfig(level=logging.INFO)"
      ],
      "execution_count": 16,
      "outputs": [
        {
          "output_type": "stream",
          "text": [
            "Requirement already satisfied: transformers in /usr/local/lib/python3.6/dist-packages (3.0.2)\n",
            "Requirement already satisfied: numpy in /usr/local/lib/python3.6/dist-packages (from transformers) (1.18.5)\n",
            "Requirement already satisfied: sentencepiece!=0.1.92 in /usr/local/lib/python3.6/dist-packages (from transformers) (0.1.91)\n",
            "Requirement already satisfied: filelock in /usr/local/lib/python3.6/dist-packages (from transformers) (3.0.12)\n",
            "Requirement already satisfied: tokenizers==0.8.1.rc1 in /usr/local/lib/python3.6/dist-packages (from transformers) (0.8.1rc1)\n",
            "Requirement already satisfied: packaging in /usr/local/lib/python3.6/dist-packages (from transformers) (20.4)\n",
            "Requirement already satisfied: requests in /usr/local/lib/python3.6/dist-packages (from transformers) (2.23.0)\n",
            "Requirement already satisfied: sacremoses in /usr/local/lib/python3.6/dist-packages (from transformers) (0.0.43)\n",
            "Requirement already satisfied: dataclasses; python_version < \"3.7\" in /usr/local/lib/python3.6/dist-packages (from transformers) (0.7)\n",
            "Requirement already satisfied: tqdm>=4.27 in /usr/local/lib/python3.6/dist-packages (from transformers) (4.41.1)\n",
            "Requirement already satisfied: regex!=2019.12.17 in /usr/local/lib/python3.6/dist-packages (from transformers) (2019.12.20)\n",
            "Requirement already satisfied: pyparsing>=2.0.2 in /usr/local/lib/python3.6/dist-packages (from packaging->transformers) (2.4.7)\n",
            "Requirement already satisfied: six in /usr/local/lib/python3.6/dist-packages (from packaging->transformers) (1.15.0)\n",
            "Requirement already satisfied: idna<3,>=2.5 in /usr/local/lib/python3.6/dist-packages (from requests->transformers) (2.10)\n",
            "Requirement already satisfied: chardet<4,>=3.0.2 in /usr/local/lib/python3.6/dist-packages (from requests->transformers) (3.0.4)\n",
            "Requirement already satisfied: urllib3!=1.25.0,!=1.25.1,<1.26,>=1.21.1 in /usr/local/lib/python3.6/dist-packages (from requests->transformers) (1.24.3)\n",
            "Requirement already satisfied: certifi>=2017.4.17 in /usr/local/lib/python3.6/dist-packages (from requests->transformers) (2020.6.20)\n",
            "Requirement already satisfied: click in /usr/local/lib/python3.6/dist-packages (from sacremoses->transformers) (7.1.2)\n",
            "Requirement already satisfied: joblib in /usr/local/lib/python3.6/dist-packages (from sacremoses->transformers) (0.16.0)\n"
          ],
          "name": "stdout"
        }
      ]
    },
    {
      "cell_type": "code",
      "metadata": {
        "id": "6od_vKjMjpKi",
        "colab_type": "code",
        "colab": {
          "base_uri": "https://localhost:8080/",
          "height": 55
        },
        "outputId": "41fa6b73-a91a-4e13-b52a-f4880b7cc72f"
      },
      "source": [
        "# Tokenize with BERT tokenizer\n",
        "tokenizer = BertTokenizer.from_pretrained('bert-base-uncased', do_lower_case=True)"
      ],
      "execution_count": 17,
      "outputs": [
        {
          "output_type": "stream",
          "text": [
            "INFO:transformers.tokenization_utils_base:loading file https://s3.amazonaws.com/models.huggingface.co/bert/bert-base-uncased-vocab.txt from cache at /root/.cache/torch/transformers/26bc1ad6c0ac742e9b52263248f6d0f00068293b33709fae12320c0e35ccfbbb.542ce4285a40d23a559526243235df47c5f75c197f04f37d1a0c124c32c9a084\n"
          ],
          "name": "stderr"
        }
      ]
    },
    {
      "cell_type": "markdown",
      "metadata": {
        "id": "53Dt5fUKO61h",
        "colab_type": "text"
      },
      "source": [
        "Guide on how to tokenize and turn the lists into tensors was found here: https://mccormickml.com/2019/07/22/BERT-fine-tuning/"
      ]
    },
    {
      "cell_type": "code",
      "metadata": {
        "id": "_srruDts_RVg",
        "colab_type": "code",
        "colab": {}
      },
      "source": [
        "def data_to_tensors(tweets, labels):\n",
        "  # Tokenize all of the sentences and map the tokens to their word IDs.\n",
        "  input_ids = []\n",
        "  attention_masks = []\n",
        "  # For every sentence...\n",
        "  #for tweet in seperated_tweets:\n",
        "  for tweet in tweets:\n",
        "      # `encode_plus` will:\n",
        "      #   (1) Tokenize the sentence.\n",
        "      #   (2) Map tokens to their IDs.\n",
        "      #   (3) Pad or truncate the sentence to `max_length`\n",
        "      #   (4) Create attention masks for [PAD] tokens.\n",
        "      encoded_dict = tokenizer.encode_plus(\n",
        "                          tweet,                      # tweet to encode.\n",
        "                          add_special_tokens = True, # Add '[CLS]' and '[SEP]'?\n",
        "                          truncation=True,\n",
        "                          max_length = 152,           # Pad & truncate all tweets. #Used to be 152\n",
        "                          pad_to_max_length = True,\n",
        "                          return_attention_mask = True,   # Construct attn. masks.\n",
        "                          return_tensors = 'pt',     # Return pytorch tensors.\n",
        "                    )\n",
        "      \n",
        "      # Add the encoded sentence to the list.    \n",
        "      input_ids.append(encoded_dict['input_ids'])\n",
        "\n",
        "      # And its attention mask (simply differentiates padding from non-padding).\n",
        "      attention_masks.append(encoded_dict['attention_mask'])\n",
        "\n",
        "  # Convert the lists into tensors.\n",
        "  input_ids = torch.cat(input_ids, dim=0)\n",
        "  attention_masks = torch.cat(attention_masks, dim=0)\n",
        "  labels = torch.tensor(labels)\n",
        "  return input_ids, attention_masks, labels"
      ],
      "execution_count": 18,
      "outputs": []
    },
    {
      "cell_type": "markdown",
      "metadata": {
        "id": "BndeVh9WEPKu",
        "colab_type": "text"
      },
      "source": [
        "### Attention Mask\n",
        "\n",
        "Since each tweet needs to be of the same lenght they have been padded to be of the same lenght as the longest tweet. BERT will not need to pay attention to the padding, thus attention masks are neeeded for each tweet to distingush between real input and padding. See more: https://huggingface.co/transformers/glossary.html#attention-mask\n"
      ]
    },
    {
      "cell_type": "markdown",
      "metadata": {
        "id": "ltiOErEo3GaW",
        "colab_type": "text"
      },
      "source": [
        "### Split data into training and validation sets\n",
        "The guide also found here: https://mccormickml.com/2019/07/22/BERT-fine-tuning/\n",
        "\n",
        "Why it is good to have an validation set is because it is a good test to use for overfitting. Instead of just considering validation accuracy, validation loss can also be observed, which is basically a measurement of how confindent the model was on the correct prediction. "
      ]
    },
    {
      "cell_type": "code",
      "metadata": {
        "id": "MxjHFvkM97fe",
        "colab_type": "code",
        "colab": {
          "base_uri": "https://localhost:8080/",
          "height": 54
        },
        "outputId": "2a491277-8019-4d2a-e91f-bc208fca7a21"
      },
      "source": [
        "from torch.utils.data import TensorDataset\n",
        "# Combine the training inputs into a TensorDataset.\n",
        "#tweets, labels = get_dataset('90_training_data')\n",
        "tweets, labels = get_dataset_from_github('https://raw.githubusercontent.com/josbex/HS-detection_in_social_media_posts/master/data/90_training_data.tsv')\n",
        "input_ids, attention_masks, labels = data_to_tensors(tweets, labels)\n",
        "train_dataset = TensorDataset(input_ids, attention_masks, labels)\n",
        "\n",
        "# Combine the validation inputs into a TensorDataset.\n",
        "#tweets, labels = get_dataset('10_val_data')\n",
        "tweets, labels = get_dataset_from_github('https://raw.githubusercontent.com/josbex/HS-detection_in_social_media_posts/master/data/10_val_data.tsv')\n",
        "input_ids, attention_masks, labels = data_to_tensors(tweets, labels)\n",
        "val_dataset = TensorDataset(input_ids, attention_masks, labels)\n",
        "\n",
        "print('{:>5,} training samples'.format(len(train_dataset)))\n",
        "print('{:>5,} validation samples'.format(len(val_dataset)))"
      ],
      "execution_count": 19,
      "outputs": [
        {
          "output_type": "stream",
          "text": [
            "11,916 training samples\n",
            "1,324 validation samples\n"
          ],
          "name": "stdout"
        }
      ]
    },
    {
      "cell_type": "markdown",
      "metadata": {
        "id": "inBj4H0k4Ogk",
        "colab_type": "text"
      },
      "source": [
        "The guide also recommed to create an iterator for the dataset since this save on memory compared to using regular for loops. See more: https://pytorch.org/docs/stable/data.html"
      ]
    },
    {
      "cell_type": "code",
      "metadata": {
        "id": "xti7rQDvs2qO",
        "colab_type": "code",
        "colab": {}
      },
      "source": [
        "from torch.utils.data import DataLoader, RandomSampler, SequentialSampler\n",
        "def create_dataloaders(batch_size):\n",
        "  # The DataLoader needs to know our batch size for training, so we specify it \n",
        "  # here. For fine-tuning BERT on a specific task, the authors recommend a batch \n",
        "  # size of 16 or 32.\n",
        "  batch_size = batch_size\n",
        "\n",
        "  # Create the DataLoaders for our training and validation sets.\n",
        "  # We'll take training samples in random order. \n",
        "  train_dataloader = DataLoader(\n",
        "              train_dataset,  # The training samples.\n",
        "              sampler = RandomSampler(train_dataset), # Select batches randomly\n",
        "              batch_size = batch_size # Trains with this batch size.\n",
        "          )\n",
        "\n",
        "  # For validation the order doesn't matter, so we'll just read them sequentially.\n",
        "  validation_dataloader = DataLoader(\n",
        "              val_dataset, # The validation samples.\n",
        "              sampler = SequentialSampler(val_dataset), # Pull out batches sequentially.\n",
        "              batch_size = batch_size # Evaluate with this batch size.\n",
        "          )\n",
        "  return train_dataloader, validation_dataloader"
      ],
      "execution_count": 20,
      "outputs": []
    },
    {
      "cell_type": "markdown",
      "metadata": {
        "id": "HTSjfqwESl_1",
        "colab_type": "text"
      },
      "source": [
        "###Linear schedule with warmup\n",
        "Create a schedule with a learning rate that decreases linearly from the initial lr set in the optimizer to 0, after a warmup period during which it increases linearly from 0 to the initial lr set in the optimizer."
      ]
    },
    {
      "cell_type": "code",
      "metadata": {
        "id": "pxAitKZmsWKn",
        "colab_type": "code",
        "colab": {}
      },
      "source": [
        "from transformers import BertForSequenceClassification, AdamW, BertConfig\n",
        "from transformers import get_linear_schedule_with_warmup\n",
        "def setup_model(epoch, learn_rate, train_dataloader):\n",
        "  # Load BertForSequenceClassification, the pretrained BERT model with a single \n",
        "  # linear classification layer on top. \n",
        "  model = BertForSequenceClassification.from_pretrained(\n",
        "      \"bert-base-uncased\", # Use the 12-layer BERT model, with an uncased vocab.\n",
        "      num_labels = 2, # The number of output labels--2 for binary classification.   \n",
        "      output_attentions = False, # Whether the model returns attentions weights.\n",
        "      output_hidden_states = False, # Whether the model returns all hidden-states.\n",
        "  )\n",
        "\n",
        "  # Tell pytorch to run this model on the GPU.\n",
        "  model.cuda()\n",
        "  #The epsilon parameter eps = 1e-8 is “a very small number to prevent any division by zero in the implementation”\n",
        "  optimizer = AdamW(model.parameters(),\n",
        "                    lr = learn_rate, # args.learning_rate \n",
        "                    eps = 1e-8 # args.adam_epsilon  - default is 1e-8.\n",
        "                  )\n",
        "  # Number of training epochs. The BERT authors recommend between 2 and 4. \n",
        "  epochs = epoch\n",
        "\n",
        "  # Total number of training steps is [number of batches] x [number of epochs]. \n",
        "  # (Note that this is not the same as the number of training samples).\n",
        "  total_steps = len(train_dataloader) * epochs\n",
        "\n",
        "  # Create the learning rate scheduler.\n",
        "  scheduler = get_linear_schedule_with_warmup(optimizer, \n",
        "                                              num_warmup_steps = 0, # Default value in run_glue.py\n",
        "                                              num_training_steps = total_steps)\n",
        "  return model, optimizer, scheduler"
      ],
      "execution_count": 21,
      "outputs": []
    },
    {
      "cell_type": "markdown",
      "metadata": {
        "id": "15QLtYCIQzAw",
        "colab_type": "text"
      },
      "source": [
        "##Training helper functions"
      ]
    },
    {
      "cell_type": "code",
      "metadata": {
        "id": "loJbsiGOWz6P",
        "colab_type": "code",
        "colab": {}
      },
      "source": [
        "#No point in keep training a model when the range between validation loss and training loss becomes to great\n",
        "def stop_early(training_stats):\n",
        "  if(abs(training_stats[len(training_stats)-1]['Valid. Loss'] - training_stats[len(training_stats)-1]['Training Loss']) > 0.2 and (len(training_stats) > 1)):\n",
        "    return True\n",
        "  else:\n",
        "    return False\n",
        "\n",
        "def is_accuracy_improving(training_stats):\n",
        "  if(training_stats[len(training_stats)-1]['Valid. Accur.'] > training_stats[len(training_stats)-2]['Valid. Accur.']):\n",
        "    return True\n",
        "  else:\n",
        "    return False"
      ],
      "execution_count": 22,
      "outputs": []
    },
    {
      "cell_type": "code",
      "metadata": {
        "id": "ijHRWx08ug7B",
        "colab_type": "code",
        "colab": {}
      },
      "source": [
        "def validate(validation_dataloader, model):\n",
        "  # ========================================\n",
        "  #               Validation\n",
        "  # ========================================\n",
        "  # After the completion of each training epoch, measure our performance on\n",
        "  # our validation set.\n",
        "\n",
        "  print(\"\")\n",
        "  print(\"Running Validation...\")\n",
        "\n",
        "  t0 = time.time()\n",
        "\n",
        "  # Put the model in evaluation mode--the dropout layers behave differently\n",
        "  # during evaluation.\n",
        "  model.eval()\n",
        "\n",
        "  # Tracking variables \n",
        "  total_eval_accuracy = 0\n",
        "  total_eval_loss = 0\n",
        "  nb_eval_steps = 0\n",
        "  total_f1_score = 0\n",
        "\n",
        "  # Evaluate data for one epoch\n",
        "  for step, batch in enumerate(validation_dataloader):\n",
        "    \n",
        "    # Unpack this training batch from our dataloader. \n",
        "    #\n",
        "    # As we unpack the batch, we'll also copy each tensor to the GPU using \n",
        "    # the `to` method.\n",
        "    #\n",
        "    # `batch` contains three pytorch tensors:\n",
        "    #   [0]: input ids \n",
        "    #   [1]: attention masks\n",
        "    #   [2]: labels \n",
        "    b_input_ids = batch[0].to(device)\n",
        "    b_input_mask = batch[1].to(device)\n",
        "    b_labels = batch[2].to(device)\n",
        "    \n",
        "    # Tell pytorch not to bother with constructing the compute graph during\n",
        "    # the forward pass, since this is only needed for backprop (training).\n",
        "    with torch.no_grad():        \n",
        "\n",
        "        # Forward pass, calculate logit predictions.\n",
        "        # token_type_ids is the same as the \"segment ids\", which \n",
        "        # differentiates sentence 1 and 2 in 2-sentence tasks.\n",
        "        # The documentation for this `model` function is here: \n",
        "        # https://huggingface.co/transformers/v2.2.0/model_doc/bert.html#transformers.BertForSequenceClassification\n",
        "        # Get the \"logits\" output by the model. The \"logits\" are the output\n",
        "        # values prior to applying an activation function like the softmax.\n",
        "        (loss, logits) = model(b_input_ids, \n",
        "                              attention_mask=b_input_mask,\n",
        "                              labels=b_labels)\n",
        "        \n",
        "    # Accumulate the validation loss.\n",
        "    total_eval_loss += loss.item()\n",
        "\n",
        "    # Move logits and labels to CPU\n",
        "    logits = logits.detach().cpu().numpy()\n",
        "    label_ids = b_labels.to('cpu').numpy()\n",
        "\n",
        "    # Calculate the accuracy for this batch of test tweets, and\n",
        "    # accumulate it over all batches.\n",
        "    total_eval_accuracy += flat_accuracy(logits, label_ids)\n",
        "    total_f1_score += f1_score(label_ids.flatten(), np.argmax(logits, axis=1).flatten(), average='macro')\n",
        "      \n",
        "  # Report the final accuracy for this validation run.\n",
        "  avg_val_accuracy = total_eval_accuracy / len(validation_dataloader)\n",
        "  print(\"  Accuracy: {0:.3f}\".format(avg_val_accuracy))\n",
        "\n",
        "  # Report the final f-1 score for this validation run.\n",
        "  avg_f1_score = total_f1_score/len(validation_dataloader)\n",
        "  print(\"  f-1 score: {0:.3f}\".format(avg_f1_score))\n",
        "\n",
        "  # Calculate the average loss over all of the batches.\n",
        "  avg_val_loss = total_eval_loss / len(validation_dataloader)\n",
        "\n",
        "  # Measure how long the validation run took.\n",
        "  validation_time = format_time(time.time() - t0)\n",
        "\n",
        "  print(\"  Validation Loss: {0:.3f}\".format(avg_val_loss))\n",
        "  print(\"  Validation took: {:}\".format(validation_time))\n",
        "  return validation_time, avg_val_loss, avg_val_accuracy, avg_f1_score"
      ],
      "execution_count": 23,
      "outputs": []
    },
    {
      "cell_type": "code",
      "metadata": {
        "id": "1Pm9VyipueVL",
        "colab_type": "code",
        "colab": {}
      },
      "source": [
        "def train_and_validate(model, optimizer, scheduler, train_dataloader, validation_dataloader, epochs, batch_size):\n",
        "  # This training code is based on the `run_glue.py` script here:\n",
        "  # https://github.com/huggingface/transformers/blob/5bfcd0485ece086ebcbed2d008813037968a9e58/examples/run_glue.py#L128\n",
        "\n",
        "  # Set the seed value all over the place to make this reproducible.\n",
        "  seed_val = 42\n",
        "\n",
        "  random.seed(seed_val)\n",
        "  np.random.seed(seed_val)\n",
        "  torch.manual_seed(seed_val)\n",
        "  torch.cuda.manual_seed_all(seed_val)\n",
        "\n",
        "  # We'll store a number of quantities such as training and validation loss, \n",
        "  # validation accuracy, and timings.\n",
        "  training_stats = []\n",
        "  mid_training_stats = []\n",
        "  mid_validation_stats = []\n",
        "\n",
        "  # Measure the total training time for the whole run.\n",
        "  total_t0 = time.time()\n",
        "\n",
        "  # For each epoch...\n",
        "  for epoch_i in range(0, epochs):\n",
        "      \n",
        "      # ========================================\n",
        "      #               Training\n",
        "      # ========================================\n",
        "      \n",
        "      # Perform one full pass over the training set.\n",
        "\n",
        "      print(\"\")\n",
        "      print('======== Epoch {:} / {:} ========'.format(epoch_i + 1, epochs))\n",
        "      print('Training...')\n",
        "\n",
        "      # Measure how long the training epoch takes.\n",
        "      t0 = time.time()\n",
        "\n",
        "      # Reset the total loss for this epoch.\n",
        "      total_train_loss = 0\n",
        "\n",
        "      # Put the model into training mode. Don't be mislead--the call to \n",
        "      # `train` just changes the *mode*, it doesn't *perform* the training.\n",
        "      # `dropout` and `batchnorm` layers behave differently during training\n",
        "      # vs. test (source: https://stackoverflow.com/questions/51433378/what-does-model-train-do-in-pytorch)\n",
        "      model.train()\n",
        "\n",
        "      # For each batch of training data...\n",
        "      for step, batch in enumerate(train_dataloader):\n",
        "\n",
        "          # Progress update every 40 batches.\n",
        "          if step % 40 == 0 and not step == 0:\n",
        "              # Calculate elapsed time in minutes.\n",
        "              elapsed = format_time(time.time() - t0)\n",
        "              \n",
        "              # Report progress.\n",
        "              print('  Batch {:>5,}  of  {:>5,}.    Elapsed: {:}.'.format(step, len(train_dataloader), elapsed))\n",
        "\n",
        "          # Unpack this training batch from our dataloader. \n",
        "          #\n",
        "          # As we unpack the batch, we'll also copy each tensor to the GPU using the \n",
        "          # `to` method.\n",
        "          #\n",
        "          # `batch` contains three pytorch tensors:\n",
        "          #   [0]: input ids \n",
        "          #   [1]: attention masks\n",
        "          #   [2]: labels \n",
        "          b_input_ids = batch[0].to(device)\n",
        "          b_input_mask = batch[1].to(device)\n",
        "          b_labels = batch[2].to(device)\n",
        "\n",
        "          # Always clear any previously calculated gradients before performing a\n",
        "          # backward pass. PyTorch doesn't do this automatically because \n",
        "          # accumulating the gradients is \"convenient while training RNNs\". \n",
        "          # (source: https://stackoverflow.com/questions/48001598/why-do-we-need-to-call-zero-grad-in-pytorch)\n",
        "          model.zero_grad()        \n",
        "\n",
        "          # Perform a forward pass (evaluate the model on this training batch).\n",
        "          # The documentation for this `model` function is here: \n",
        "          # https://huggingface.co/transformers/v2.2.0/model_doc/bert.html#transformers.BertForSequenceClassification\n",
        "          # It returns different numbers of parameters depending on what arguments\n",
        "          # arge given and what flags are set. For our useage here, it returns\n",
        "          # the loss (because we provided labels) and the \"logits\"--the model\n",
        "          # outputs prior to activation.\n",
        "          loss, logits = model(b_input_ids,  \n",
        "                              attention_mask=b_input_mask, \n",
        "                              labels=b_labels)\n",
        "\n",
        "          # Accumulate the training loss over all of the batches so that we can\n",
        "          # calculate the average loss at the end. `loss` is a Tensor containing a\n",
        "          # single value; the `.item()` function just returns the Python value \n",
        "          # from the tensor.\n",
        "          total_train_loss += loss.item()\n",
        "\n",
        "          # Save training loss every 100th step\n",
        "          if step % 100 == 0 and not step == 0:\n",
        "            validation_time, avg_val_loss, avg_val_accuracy, avg_f1_score = validate(validation_dataloader, model)\n",
        "            if(len(mid_training_stats) > 0): #not reseting steps per epoch, making it easier to plot\n",
        "              current_step = mid_training_stats[len(mid_training_stats)-1]['Step']+ 100\n",
        "            else:\n",
        "              current_step = 100\n",
        "            mid_training_stats.append({\n",
        "                                      'epoch': epoch_i + 1,\n",
        "                                      'Training Loss': total_train_loss/step, #Get the average training loss at each hundered batch \n",
        "                                      'Step' : current_step,\n",
        "                                      'Valid. Time' : validation_time,\n",
        "                                      'Valid. Loss' : avg_val_loss,\n",
        "                                      'Valid. Accur.' : avg_val_accuracy,\n",
        "                                      'Valid. f1 score' : avg_f1_score\n",
        "                                      })\n",
        "            \n",
        "          # Perform a backward pass to calculate the gradients.\n",
        "          loss.backward()\n",
        "\n",
        "          # Clip the norm of the gradients to 1.0.\n",
        "          # This is to help prevent the \"exploding gradients\" problem.\n",
        "          torch.nn.utils.clip_grad_norm_(model.parameters(), 1.0)\n",
        "\n",
        "          # Update parameters and take a step using the computed gradient.\n",
        "          # The optimizer dictates the \"update rule\"--how the parameters are\n",
        "          # modified based on their gradients, the learning rate, etc.\n",
        "          optimizer.step()\n",
        "\n",
        "          # Update the learning rate.\n",
        "          scheduler.step()\n",
        "\n",
        "      # Calculate the average loss over all of the batches.\n",
        "      avg_train_loss = total_train_loss / len(train_dataloader)            \n",
        "      \n",
        "      # Measure how long this epoch took.\n",
        "      training_time = format_time(time.time() - t0)\n",
        "\n",
        "      print(\"\")\n",
        "      print(\"  Average training loss: {0:.3f}\".format(avg_train_loss))\n",
        "      print(\"  Training epcoh took: {:}\".format(training_time))\n",
        "\n",
        "      #Run final validation    \n",
        "      validation_time, avg_val_loss, avg_val_accuracy, avg_f1_score = validate(validation_dataloader, model)\n",
        "      print(\"  Validation Loss: {0:.3f}\".format(avg_val_loss))\n",
        "      print(\"  Validation took: {:}\".format(validation_time))\n",
        "\n",
        "      #Add these if you want to test after each epoch is done training \n",
        "      predictions, true_labels = test(batch_size, model, tokenizer)\n",
        "      test_accur, test_f1 = get_test_accuracy_and_f1_score(predictions, true_labels)\n",
        "      print(\"  Test Accuracy: {0:.3f}\".format(test_accur))\n",
        "      print(\"  Test f-1 score: {0:.3f}\".format(test_f1))\n",
        "\n",
        "      # Record all statistics from this epoch.\n",
        "      training_stats.append(\n",
        "          {\n",
        "              'epoch': epoch_i + 1,\n",
        "              'Training Loss': avg_train_loss,\n",
        "              'Valid. Loss': avg_val_loss,\n",
        "              'Valid. Accur.': avg_val_accuracy,\n",
        "              'Train f-1 Score': avg_f1_score,\n",
        "              'Training Time': training_time,\n",
        "              'Validation Time': validation_time, \n",
        "              'Test Accur.' : test_accur,\n",
        "              'Test f-1 Score' : test_f1\n",
        "          }\n",
        "      )\n",
        "      \n",
        "      if(epoch_i>0):\n",
        "        if(is_accuracy_improving(training_stats)):\n",
        "          continue\n",
        "        else:\n",
        "          print(\"Training stopped at epoch: \" + str(epoch_i +1) + \" since accuracy was not increasing\")\n",
        "          break\n",
        "\n",
        "  print(\"\")\n",
        "  print(\"Training complete!\")\n",
        "\n",
        "  print(\"Total training took {:} (h:mm:ss)\".format(format_time(time.time()-total_t0)))\n",
        "  return model, training_stats, mid_training_stats"
      ],
      "execution_count": 24,
      "outputs": []
    },
    {
      "cell_type": "code",
      "metadata": {
        "id": "wBzKmLVunGC7",
        "colab_type": "code",
        "colab": {}
      },
      "source": [
        "def print_stats(stats):\n",
        "  # Display floats with two decimal places.\n",
        "  pd.set_option('precision', 3)\n",
        "\n",
        "  # Create a DataFrame from our training statistics.\n",
        "  df_stats = pd.DataFrame(stats)\n",
        "\n",
        "  # Use the 'epoch' as the row index.\n",
        "  df_stats = df_stats.set_index('epoch')\n",
        "\n",
        "  # Display the table.\n",
        "  display(df_stats)"
      ],
      "execution_count": 25,
      "outputs": []
    },
    {
      "cell_type": "code",
      "metadata": {
        "id": "YQhO_gKj3FRj",
        "colab_type": "code",
        "colab": {}
      },
      "source": [
        "def save_mid_training_stats(stats, epoch, batch_size, learning_rate):\n",
        "  with open('/content/gdrive/My Drive/thesis/dataset/stats/new_training_round/mid_training_stats/batch_size='+ str(batch_size) + '/mid_train_e=' + str(epoch) + '_b=' + str(batch_size) + '_lr=' + str(learning_rate) + '.tsv', 'wt') as out_file:\n",
        "    tsv_writer = csv.writer(out_file, delimiter='\\t')\n",
        "    tsv_writer.writerow(['Epoch', 'Step', 'Training Loss', 'Valid. Time', 'Valid. Loss', 'Valid. Accur.', 'Valid. f1 score'])\n",
        "    for row in stats:\n",
        "      tsv_writer.writerow([row['epoch'], row['Step'], row['Training Loss'], row['Valid. Time'], row['Valid. Loss'], row['Valid. Accur.'], row['Valid. f1 score']])\n",
        "  out_file.close()\n",
        "\n",
        "def save_training_stats(stats, epoch, batch_size, learning_rate, isBest):\n",
        "  if isBest:\n",
        "    filename = 'best_stats_e=' + str(epoch) + '_b=' + str(batch_size) + '_lr=' + str(learning_rate)\n",
        "  else:\n",
        "    filename = 'training_stats_e=' + str(epoch) + '_b=' + str(batch_size) + '_lr=' + str(learning_rate)\n",
        "  with open('/content/gdrive/My Drive/thesis/dataset/stats/new_training_round/training_stats/batch_size='+ str(batch_size) + '/' + filename + '.tsv', 'wt') as out_file:\n",
        "    tsv_writer = csv.writer(out_file, delimiter='\\t')\n",
        "    tsv_writer.writerow(['Epoch', 'Training Loss', 'Valid. Loss', 'Valid. Accur.', 'Train f-1 Score', 'Training Time', 'Validation Time', 'Test Accur.', 'Test f-1 Score'])\n",
        "    for row in stats:\n",
        "      tsv_writer.writerow([row['epoch'], row['Training Loss'], row['Valid. Loss'], row['Valid. Accur.'], row['Train f-1 Score'], row['Training Time'], row['Validation Time'], row['Test Accur.'], row['Test f-1 Score']])\n",
        "  out_file.close()"
      ],
      "execution_count": 30,
      "outputs": []
    },
    {
      "cell_type": "code",
      "metadata": {
        "id": "lJIUNqL6rxkO",
        "colab_type": "code",
        "colab": {}
      },
      "source": [
        "#Need to pass the dataloaders when training to avoid having to create new ones for each training round\n",
        "def start_training(epoch, batch_size, learn_rate, train_dataloader, validation_dataloader):\n",
        "  #train_dataloader, validation_dataloader = create_dataloaders(batch_size)\n",
        "  model, optimizer, scheduler = setup_model(epoch, learn_rate, train_dataloader)\n",
        "  return train_and_validate(model, optimizer, scheduler, train_dataloader, validation_dataloader, epoch, batch_size)\n",
        "\n",
        "def training_loop(parameter_list):\n",
        "  best_stats = []\n",
        "  best_parameters = {}\n",
        "  best_updated = True\n",
        "  train_dataloader_32, validation_dataloader_32 = create_dataloaders(32)\n",
        "  train_dataloader_16, validation_dataloader_16 = create_dataloaders(16)\n",
        "  for entry in parameter_list:\n",
        "    print('Epochs: ', entry['epoch'])\n",
        "    print('Batch size: ', entry['batch_size'])\n",
        "    print('Learning rate: ', entry['learning_rate'])\n",
        "    if(int(entry['batch_size']) == 16):\n",
        "      model, training_stats, mid_training_stats = start_training(entry['epoch'], entry['batch_size'], entry['learning_rate'], train_dataloader_16, validation_dataloader_16)\n",
        "    else:\n",
        "      model, training_stats, mid_training_stats = start_training(entry['epoch'], entry['batch_size'], entry['learning_rate'], train_dataloader_32, validation_dataloader_32)\n",
        "    save_mid_training_stats(mid_training_stats, entry['epoch'], entry['batch_size'], entry['learning_rate'])\n",
        "    save_training_stats(training_stats, entry['epoch'], entry['batch_size'], entry['learning_rate'], False)\n",
        "    if len(best_stats) == 0:\n",
        "      best_stats = training_stats\n",
        "      best_parameters = entry \n",
        "      save_model(model)\n",
        "    elif (training_stats[len(training_stats)-1]['Test f-1 Score'] > best_stats[len(best_stats)-1]['Test f-1 Score']):\n",
        "      best_stats = training_stats\n",
        "      best_parameters = entry\n",
        "      best_updated = True  \n",
        "      save_model(model)\n",
        "    else:\n",
        "      best_updated = False\n",
        "      continue\n",
        "  save_training_stats(best_stats, best_parameters['epoch'], best_parameters['batch_size'], best_parameters['learning_rate'], best_updated)\n",
        "  return best_stats, best_parameters "
      ],
      "execution_count": 27,
      "outputs": []
    },
    {
      "cell_type": "markdown",
      "metadata": {
        "id": "NFu-_dO14hv5",
        "colab_type": "text"
      },
      "source": [
        "## Training the model"
      ]
    },
    {
      "cell_type": "code",
      "metadata": {
        "id": "hlvl_0DX21JA",
        "colab_type": "code",
        "colab": {}
      },
      "source": [
        "meta_parameters_same_epoch = [\n",
        "                              {'batch_size' : 16, 'learning_rate' : 2e-5, 'epoch' : 4},\n",
        "                              {'batch_size' : 16, 'learning_rate' : 3e-5, 'epoch' : 4},\n",
        "                              {'batch_size' : 16, 'learning_rate' : 5e-5, 'epoch' : 4},\n",
        "                              {'batch_size' : 32, 'learning_rate' : 2e-5, 'epoch' : 4},\n",
        "                              {'batch_size' : 32, 'learning_rate' : 3e-5, 'epoch' : 4},\n",
        "                              {'batch_size' : 32, 'learning_rate' : 5e-5, 'epoch' : 4}\n",
        "                             ]"
      ],
      "execution_count": 28,
      "outputs": []
    },
    {
      "cell_type": "code",
      "metadata": {
        "id": "vx0WjrqEd1QK",
        "colab_type": "code",
        "colab": {}
      },
      "source": [
        "#For training on just one parameter combo\n",
        "batch_size = 32\n",
        "train_dataloader, validation_dataloader = create_dataloaders(batch_size)\n",
        "model, training_stats, mid_training_stats, mid_validation_stats = start_training(2, batch_size, 5e-5, train_dataloader, validation_dataloader)\n",
        "print_stats(training_stats)"
      ],
      "execution_count": null,
      "outputs": []
    },
    {
      "cell_type": "code",
      "metadata": {
        "id": "K_400wle1PeB",
        "colab_type": "code",
        "colab": {
          "base_uri": "https://localhost:8080/",
          "height": 1000
        },
        "outputId": "f4fd0938-7511-4f78-e976-8d11a2570f28"
      },
      "source": [
        "#For training with all combinations of recomended default parameters (Takes a long time!)\n",
        "best_stats, best_parameters = training_loop(meta_parameters_same_epoch)\n",
        "print_stats(best_stats)\n",
        "print(best_parameters)"
      ],
      "execution_count": 29,
      "outputs": [
        {
          "output_type": "stream",
          "text": [
            "Epochs:  4\n",
            "Batch size:  16\n",
            "Learning rate:  2e-05\n"
          ],
          "name": "stdout"
        },
        {
          "output_type": "stream",
          "text": [
            "INFO:transformers.configuration_utils:loading configuration file https://s3.amazonaws.com/models.huggingface.co/bert/bert-base-uncased-config.json from cache at /root/.cache/torch/transformers/4dad0251492946e18ac39290fcfe91b89d370fee250efe9521476438fe8ca185.7156163d5fdc189c3016baca0775ffce230789d7fa2a42ef516483e4ca884517\n",
            "INFO:transformers.configuration_utils:Model config BertConfig {\n",
            "  \"architectures\": [\n",
            "    \"BertForMaskedLM\"\n",
            "  ],\n",
            "  \"attention_probs_dropout_prob\": 0.1,\n",
            "  \"gradient_checkpointing\": false,\n",
            "  \"hidden_act\": \"gelu\",\n",
            "  \"hidden_dropout_prob\": 0.1,\n",
            "  \"hidden_size\": 768,\n",
            "  \"initializer_range\": 0.02,\n",
            "  \"intermediate_size\": 3072,\n",
            "  \"layer_norm_eps\": 1e-12,\n",
            "  \"max_position_embeddings\": 512,\n",
            "  \"model_type\": \"bert\",\n",
            "  \"num_attention_heads\": 12,\n",
            "  \"num_hidden_layers\": 12,\n",
            "  \"pad_token_id\": 0,\n",
            "  \"type_vocab_size\": 2,\n",
            "  \"vocab_size\": 30522\n",
            "}\n",
            "\n",
            "INFO:transformers.modeling_utils:loading weights file https://cdn.huggingface.co/bert-base-uncased-pytorch_model.bin from cache at /root/.cache/torch/transformers/f2ee78bdd635b758cc0a12352586868bef80e47401abe4c4fcc3832421e7338b.36ca03ab34a1a5d5fa7bc3d03d55c4fa650fed07220e2eeebc06ce58d0e9a157\n",
            "WARNING:transformers.modeling_utils:Some weights of the model checkpoint at bert-base-uncased were not used when initializing BertForSequenceClassification: ['cls.predictions.bias', 'cls.predictions.transform.dense.weight', 'cls.predictions.transform.dense.bias', 'cls.predictions.decoder.weight', 'cls.seq_relationship.weight', 'cls.seq_relationship.bias', 'cls.predictions.transform.LayerNorm.weight', 'cls.predictions.transform.LayerNorm.bias']\n",
            "- This IS expected if you are initializing BertForSequenceClassification from the checkpoint of a model trained on another task or with another architecture (e.g. initializing a BertForSequenceClassification model from a BertForPretraining model).\n",
            "- This IS NOT expected if you are initializing BertForSequenceClassification from the checkpoint of a model that you expect to be exactly identical (initializing a BertForSequenceClassification model from a BertForSequenceClassification model).\n",
            "WARNING:transformers.modeling_utils:Some weights of BertForSequenceClassification were not initialized from the model checkpoint at bert-base-uncased and are newly initialized: ['classifier.weight', 'classifier.bias']\n",
            "You should probably TRAIN this model on a down-stream task to be able to use it for predictions and inference.\n"
          ],
          "name": "stderr"
        },
        {
          "output_type": "stream",
          "text": [
            "\n",
            "======== Epoch 1 / 4 ========\n",
            "Training...\n",
            "  Batch    40  of    745.    Elapsed: 0:00:31.\n",
            "  Batch    80  of    745.    Elapsed: 0:01:02.\n",
            "\n",
            "Running Validation...\n",
            "  Accuracy: 0.799\n",
            "  f-1 score: 0.759\n",
            "  Validation Loss: 0.461\n",
            "  Validation took: 0:00:23\n",
            "  Batch   120  of    745.    Elapsed: 0:01:55.\n",
            "  Batch   160  of    745.    Elapsed: 0:02:26.\n",
            "  Batch   200  of    745.    Elapsed: 0:02:57.\n",
            "\n",
            "Running Validation...\n",
            "  Accuracy: 0.807\n",
            "  f-1 score: 0.757\n",
            "  Validation Loss: 0.443\n",
            "  Validation took: 0:00:23\n",
            "  Batch   240  of    745.    Elapsed: 0:03:50.\n",
            "  Batch   280  of    745.    Elapsed: 0:04:21.\n",
            "\n",
            "Running Validation...\n",
            "  Accuracy: 0.776\n",
            "  f-1 score: 0.748\n",
            "  Validation Loss: 0.480\n",
            "  Validation took: 0:00:23\n",
            "  Batch   320  of    745.    Elapsed: 0:05:14.\n",
            "  Batch   360  of    745.    Elapsed: 0:05:45.\n",
            "  Batch   400  of    745.    Elapsed: 0:06:15.\n",
            "\n",
            "Running Validation...\n",
            "  Accuracy: 0.796\n",
            "  f-1 score: 0.768\n",
            "  Validation Loss: 0.454\n",
            "  Validation took: 0:00:23\n",
            "  Batch   440  of    745.    Elapsed: 0:07:09.\n",
            "  Batch   480  of    745.    Elapsed: 0:07:39.\n",
            "\n",
            "Running Validation...\n",
            "  Accuracy: 0.811\n",
            "  f-1 score: 0.761\n",
            "  Validation Loss: 0.439\n",
            "  Validation took: 0:00:23\n",
            "  Batch   520  of    745.    Elapsed: 0:08:33.\n",
            "  Batch   560  of    745.    Elapsed: 0:09:03.\n",
            "  Batch   600  of    745.    Elapsed: 0:09:34.\n",
            "\n",
            "Running Validation...\n",
            "  Accuracy: 0.807\n",
            "  f-1 score: 0.767\n",
            "  Validation Loss: 0.445\n",
            "  Validation took: 0:00:23\n",
            "  Batch   640  of    745.    Elapsed: 0:10:27.\n",
            "  Batch   680  of    745.    Elapsed: 0:10:58.\n",
            "\n",
            "Running Validation...\n",
            "  Accuracy: 0.811\n",
            "  f-1 score: 0.770\n",
            "  Validation Loss: 0.423\n",
            "  Validation took: 0:00:23\n",
            "  Batch   720  of    745.    Elapsed: 0:11:51.\n",
            "\n",
            "  Average training loss: 0.466\n",
            "  Training epcoh took: 0:12:10\n",
            "\n",
            "Running Validation...\n",
            "  Accuracy: 0.805\n",
            "  f-1 score: 0.741\n",
            "  Validation Loss: 0.425\n",
            "  Validation took: 0:00:23\n",
            "  Validation Loss: 0.425\n",
            "  Validation took: 0:00:23\n",
            "len tweets: 860\n",
            "len labels: 860\n",
            "Predicting labels for 860 test tweets...\n",
            "DONE.\n",
            "  Test Accuracy: 0.842\n",
            "  Test f-1 score: 0.778\n",
            "\n",
            "======== Epoch 2 / 4 ========\n",
            "Training...\n",
            "  Batch    40  of    745.    Elapsed: 0:00:31.\n",
            "  Batch    80  of    745.    Elapsed: 0:01:02.\n",
            "\n",
            "Running Validation...\n",
            "  Accuracy: 0.814\n",
            "  f-1 score: 0.784\n",
            "  Validation Loss: 0.447\n",
            "  Validation took: 0:00:23\n",
            "  Batch   120  of    745.    Elapsed: 0:01:57.\n",
            "  Batch   160  of    745.    Elapsed: 0:02:27.\n",
            "  Batch   200  of    745.    Elapsed: 0:02:58.\n",
            "\n",
            "Running Validation...\n",
            "  Accuracy: 0.799\n",
            "  f-1 score: 0.734\n",
            "  Validation Loss: 0.499\n",
            "  Validation took: 0:00:23\n",
            "  Batch   240  of    745.    Elapsed: 0:03:52.\n",
            "  Batch   280  of    745.    Elapsed: 0:04:23.\n",
            "\n",
            "Running Validation...\n",
            "  Accuracy: 0.802\n",
            "  f-1 score: 0.738\n",
            "  Validation Loss: 0.504\n",
            "  Validation took: 0:00:23\n",
            "  Batch   320  of    745.    Elapsed: 0:05:16.\n",
            "  Batch   360  of    745.    Elapsed: 0:05:47.\n",
            "  Batch   400  of    745.    Elapsed: 0:06:18.\n",
            "\n",
            "Running Validation...\n",
            "  Accuracy: 0.806\n",
            "  f-1 score: 0.758\n",
            "  Validation Loss: 0.519\n",
            "  Validation took: 0:00:23\n",
            "  Batch   440  of    745.    Elapsed: 0:07:11.\n",
            "  Batch   480  of    745.    Elapsed: 0:07:42.\n",
            "\n",
            "Running Validation...\n",
            "  Accuracy: 0.783\n",
            "  f-1 score: 0.754\n",
            "  Validation Loss: 0.473\n",
            "  Validation took: 0:00:23\n",
            "  Batch   520  of    745.    Elapsed: 0:08:35.\n",
            "  Batch   560  of    745.    Elapsed: 0:09:06.\n",
            "  Batch   600  of    745.    Elapsed: 0:09:36.\n",
            "\n",
            "Running Validation...\n",
            "  Accuracy: 0.796\n",
            "  f-1 score: 0.734\n",
            "  Validation Loss: 0.501\n",
            "  Validation took: 0:00:23\n",
            "  Batch   640  of    745.    Elapsed: 0:10:30.\n",
            "  Batch   680  of    745.    Elapsed: 0:11:01.\n",
            "\n",
            "Running Validation...\n",
            "  Accuracy: 0.790\n",
            "  f-1 score: 0.734\n",
            "  Validation Loss: 0.545\n",
            "  Validation took: 0:00:23\n",
            "  Batch   720  of    745.    Elapsed: 0:11:54.\n",
            "\n",
            "  Average training loss: 0.323\n",
            "  Training epcoh took: 0:12:13\n",
            "\n",
            "Running Validation...\n",
            "  Accuracy: 0.800\n",
            "  f-1 score: 0.757\n",
            "  Validation Loss: 0.507\n",
            "  Validation took: 0:00:23\n",
            "  Validation Loss: 0.507\n",
            "  Validation took: 0:00:23\n",
            "len tweets: 860\n",
            "len labels: 860\n",
            "Predicting labels for 860 test tweets...\n",
            "DONE.\n",
            "  Test Accuracy: 0.838\n",
            "  Test f-1 score: 0.796\n",
            "Training stopped at epoch: 2 since accuracy was not increasing\n",
            "\n",
            "Training complete!\n",
            "Total training took 0:25:40 (h:mm:ss)\n"
          ],
          "name": "stdout"
        },
        {
          "output_type": "error",
          "ename": "KeyError",
          "evalue": "ignored",
          "traceback": [
            "\u001b[0;31m---------------------------------------------------------------------------\u001b[0m",
            "\u001b[0;31mKeyError\u001b[0m                                  Traceback (most recent call last)",
            "\u001b[0;32m<ipython-input-29-ac85debcd944>\u001b[0m in \u001b[0;36m<module>\u001b[0;34m()\u001b[0m\n\u001b[1;32m      1\u001b[0m \u001b[0;31m#For training with all combinations of recomended default parameters (Takes a long time!)\u001b[0m\u001b[0;34m\u001b[0m\u001b[0;34m\u001b[0m\u001b[0;34m\u001b[0m\u001b[0m\n\u001b[0;32m----> 2\u001b[0;31m \u001b[0mbest_stats\u001b[0m\u001b[0;34m,\u001b[0m \u001b[0mbest_parameters\u001b[0m \u001b[0;34m=\u001b[0m \u001b[0mtraining_loop\u001b[0m\u001b[0;34m(\u001b[0m\u001b[0mmeta_parameters_same_epoch\u001b[0m\u001b[0;34m)\u001b[0m\u001b[0;34m\u001b[0m\u001b[0;34m\u001b[0m\u001b[0m\n\u001b[0m\u001b[1;32m      3\u001b[0m \u001b[0mprint_stats\u001b[0m\u001b[0;34m(\u001b[0m\u001b[0mbest_stats\u001b[0m\u001b[0;34m)\u001b[0m\u001b[0;34m\u001b[0m\u001b[0;34m\u001b[0m\u001b[0m\n\u001b[1;32m      4\u001b[0m \u001b[0mprint\u001b[0m\u001b[0;34m(\u001b[0m\u001b[0mbest_parameters\u001b[0m\u001b[0;34m)\u001b[0m\u001b[0;34m\u001b[0m\u001b[0;34m\u001b[0m\u001b[0m\n",
            "\u001b[0;32m<ipython-input-27-f3e47e429d9a>\u001b[0m in \u001b[0;36mtraining_loop\u001b[0;34m(parameter_list)\u001b[0m\n\u001b[1;32m     19\u001b[0m     \u001b[0;32melse\u001b[0m\u001b[0;34m:\u001b[0m\u001b[0;34m\u001b[0m\u001b[0;34m\u001b[0m\u001b[0m\n\u001b[1;32m     20\u001b[0m       \u001b[0mmodel\u001b[0m\u001b[0;34m,\u001b[0m \u001b[0mtraining_stats\u001b[0m\u001b[0;34m,\u001b[0m \u001b[0mmid_training_stats\u001b[0m \u001b[0;34m=\u001b[0m \u001b[0mstart_training\u001b[0m\u001b[0;34m(\u001b[0m\u001b[0mentry\u001b[0m\u001b[0;34m[\u001b[0m\u001b[0;34m'epoch'\u001b[0m\u001b[0;34m]\u001b[0m\u001b[0;34m,\u001b[0m \u001b[0mentry\u001b[0m\u001b[0;34m[\u001b[0m\u001b[0;34m'batch_size'\u001b[0m\u001b[0;34m]\u001b[0m\u001b[0;34m,\u001b[0m \u001b[0mentry\u001b[0m\u001b[0;34m[\u001b[0m\u001b[0;34m'learning_rate'\u001b[0m\u001b[0;34m]\u001b[0m\u001b[0;34m,\u001b[0m \u001b[0mtrain_dataloader_32\u001b[0m\u001b[0;34m,\u001b[0m \u001b[0mvalidation_dataloader_32\u001b[0m\u001b[0;34m)\u001b[0m\u001b[0;34m\u001b[0m\u001b[0;34m\u001b[0m\u001b[0m\n\u001b[0;32m---> 21\u001b[0;31m     \u001b[0msave_mid_training_stats\u001b[0m\u001b[0;34m(\u001b[0m\u001b[0mmid_training_stats\u001b[0m\u001b[0;34m,\u001b[0m \u001b[0mentry\u001b[0m\u001b[0;34m[\u001b[0m\u001b[0;34m'epoch'\u001b[0m\u001b[0;34m]\u001b[0m\u001b[0;34m,\u001b[0m \u001b[0mentry\u001b[0m\u001b[0;34m[\u001b[0m\u001b[0;34m'batch_size'\u001b[0m\u001b[0;34m]\u001b[0m\u001b[0;34m,\u001b[0m \u001b[0mentry\u001b[0m\u001b[0;34m[\u001b[0m\u001b[0;34m'learning_rate'\u001b[0m\u001b[0;34m]\u001b[0m\u001b[0;34m)\u001b[0m\u001b[0;34m\u001b[0m\u001b[0;34m\u001b[0m\u001b[0m\n\u001b[0m\u001b[1;32m     22\u001b[0m     \u001b[0msave_training_stats\u001b[0m\u001b[0;34m(\u001b[0m\u001b[0mtraining_stats\u001b[0m\u001b[0;34m,\u001b[0m \u001b[0mentry\u001b[0m\u001b[0;34m[\u001b[0m\u001b[0;34m'epoch'\u001b[0m\u001b[0;34m]\u001b[0m\u001b[0;34m,\u001b[0m \u001b[0mentry\u001b[0m\u001b[0;34m[\u001b[0m\u001b[0;34m'batch_size'\u001b[0m\u001b[0;34m]\u001b[0m\u001b[0;34m,\u001b[0m \u001b[0mentry\u001b[0m\u001b[0;34m[\u001b[0m\u001b[0;34m'learning_rate'\u001b[0m\u001b[0;34m]\u001b[0m\u001b[0;34m,\u001b[0m \u001b[0;32mFalse\u001b[0m\u001b[0;34m)\u001b[0m\u001b[0;34m\u001b[0m\u001b[0;34m\u001b[0m\u001b[0m\n\u001b[1;32m     23\u001b[0m     \u001b[0;32mif\u001b[0m \u001b[0mlen\u001b[0m\u001b[0;34m(\u001b[0m\u001b[0mbest_stats\u001b[0m\u001b[0;34m)\u001b[0m \u001b[0;34m==\u001b[0m \u001b[0;36m0\u001b[0m\u001b[0;34m:\u001b[0m\u001b[0;34m\u001b[0m\u001b[0;34m\u001b[0m\u001b[0m\n",
            "\u001b[0;32m<ipython-input-26-4a4af56d71d3>\u001b[0m in \u001b[0;36msave_mid_training_stats\u001b[0;34m(stats, epoch, batch_size, learning_rate)\u001b[0m\n\u001b[1;32m      4\u001b[0m     \u001b[0mtsv_writer\u001b[0m\u001b[0;34m.\u001b[0m\u001b[0mwriterow\u001b[0m\u001b[0;34m(\u001b[0m\u001b[0;34m[\u001b[0m\u001b[0;34m'Epoch'\u001b[0m\u001b[0;34m,\u001b[0m \u001b[0;34m'Step'\u001b[0m\u001b[0;34m,\u001b[0m \u001b[0;34m'Training Loss'\u001b[0m\u001b[0;34m,\u001b[0m \u001b[0;34m'Valid. Time'\u001b[0m\u001b[0;34m,\u001b[0m \u001b[0;34m'Valid. Loss'\u001b[0m\u001b[0;34m,\u001b[0m \u001b[0;34m'Valid. Accur.'\u001b[0m\u001b[0;34m,\u001b[0m \u001b[0;34m'Valid. f1 score'\u001b[0m\u001b[0;34m]\u001b[0m\u001b[0;34m)\u001b[0m\u001b[0;34m\u001b[0m\u001b[0;34m\u001b[0m\u001b[0m\n\u001b[1;32m      5\u001b[0m     \u001b[0;32mfor\u001b[0m \u001b[0mrow\u001b[0m \u001b[0;32min\u001b[0m \u001b[0mstats\u001b[0m\u001b[0;34m:\u001b[0m\u001b[0;34m\u001b[0m\u001b[0;34m\u001b[0m\u001b[0m\n\u001b[0;32m----> 6\u001b[0;31m       \u001b[0mtsv_writer\u001b[0m\u001b[0;34m.\u001b[0m\u001b[0mwriterow\u001b[0m\u001b[0;34m(\u001b[0m\u001b[0;34m[\u001b[0m\u001b[0mrow\u001b[0m\u001b[0;34m[\u001b[0m\u001b[0;34m'epoch'\u001b[0m\u001b[0;34m]\u001b[0m\u001b[0;34m,\u001b[0m \u001b[0mrow\u001b[0m\u001b[0;34m[\u001b[0m\u001b[0;34m'Step'\u001b[0m\u001b[0;34m]\u001b[0m\u001b[0;34m,\u001b[0m \u001b[0mrow\u001b[0m\u001b[0;34m[\u001b[0m\u001b[0;34m'Training Loss'\u001b[0m\u001b[0;34m]\u001b[0m\u001b[0;34m,\u001b[0m \u001b[0mrow\u001b[0m\u001b[0;34m[\u001b[0m\u001b[0;34m'Valid. Time'\u001b[0m\u001b[0;34m]\u001b[0m\u001b[0;34m,\u001b[0m \u001b[0mrow\u001b[0m\u001b[0;34m[\u001b[0m\u001b[0;34m'Valid. Loss'\u001b[0m\u001b[0;34m]\u001b[0m\u001b[0;34m,\u001b[0m \u001b[0mrow\u001b[0m\u001b[0;34m[\u001b[0m\u001b[0;34m'Valid. Accur'\u001b[0m\u001b[0;34m]\u001b[0m\u001b[0;34m,\u001b[0m \u001b[0mrow\u001b[0m\u001b[0;34m[\u001b[0m\u001b[0;34m'Valid. f1 score'\u001b[0m\u001b[0;34m]\u001b[0m\u001b[0;34m]\u001b[0m\u001b[0;34m)\u001b[0m\u001b[0;34m\u001b[0m\u001b[0;34m\u001b[0m\u001b[0m\n\u001b[0m\u001b[1;32m      7\u001b[0m   \u001b[0mout_file\u001b[0m\u001b[0;34m.\u001b[0m\u001b[0mclose\u001b[0m\u001b[0;34m(\u001b[0m\u001b[0;34m)\u001b[0m\u001b[0;34m\u001b[0m\u001b[0;34m\u001b[0m\u001b[0m\n\u001b[1;32m      8\u001b[0m \u001b[0;34m\u001b[0m\u001b[0m\n",
            "\u001b[0;31mKeyError\u001b[0m: 'Valid. Accur'"
          ]
        }
      ]
    },
    {
      "cell_type": "markdown",
      "metadata": {
        "id": "5mAihOgke5nD",
        "colab_type": "text"
      },
      "source": [
        "##Testing the model"
      ]
    },
    {
      "cell_type": "code",
      "metadata": {
        "id": "OW80_iuVsAgp",
        "colab_type": "code",
        "colab": {
          "base_uri": "https://localhost:8080/",
          "height": 54
        },
        "outputId": "cb9d23f3-9d3a-48b5-9ecd-f935eb6a417b"
      },
      "source": [
        "import seaborn as sns\n",
        "def plot_confusion_matrix(y_test, pred):\n",
        "  labels = [0, 1]\n",
        "  cm = confusion_matrix(y_test, pred, labels)\n",
        "  print(cm)\n",
        "  fig = plt.figure()\n",
        "  ax = fig.add_subplot(111)\n",
        "  cax = ax.matshow(cm)\n",
        "  fig.colorbar(cax)\n",
        "  ax.set_xticklabels([''] + labels)\n",
        "  ax.set_yticklabels([''] + labels)\n",
        "  plt.xlabel('Predicted')\n",
        "  plt.ylabel('True')\n",
        "  plt.show()\n",
        "\n",
        "\n",
        "def plot_with_heatmap(y_test, pred, title, rate):\n",
        "  labels = [0, 1]\n",
        "  cm = confusion_matrix(y_test, pred, labels)\n",
        "  print(cm)\n",
        "  fig = plt.figure()\n",
        "  ax= plt.subplot()\n",
        "  sns.heatmap(cm, annot=True, annot_kws={\"size\":16}, ax = ax, fmt='g', cmap='Greens'); #annot=True to annotate cells\n",
        "  # labels, title and ticks\n",
        "  ax.set_xlabel('Predicted labels')\n",
        "  ax.set_ylabel('True labels') \n",
        "  ax.set_title(title) \n",
        "  ax.xaxis.set_ticklabels(['NOT', 'OFF']); ax.yaxis.set_ticklabels(['NOT', 'OFF'])\n",
        "  plt.show()\n",
        "  #fig.savefig(\"/content/gdrive/My Drive/thesis/cm_e=2_b=32_lr=\"+ rate + \".png\")\n",
        "\n",
        "def determine_prediction_types(pred, true):\n",
        "  tp_indices = []\n",
        "  tn_indices = []\n",
        "  fp_indices = []\n",
        "  fn_indices = []\n",
        "  for index, p in enumerate(pred):\n",
        "    if(p == true[index]):\n",
        "      if(p == 1):\n",
        "        tp_indices.append(index)\n",
        "      else:\n",
        "        tn_indices.append(index)\n",
        "    else:\n",
        "      if(p == 1):\n",
        "        fp_indices.append(index)\n",
        "      else:\n",
        "        fn_indices.append(index)\n",
        "  return tp_indices, tn_indices, fp_indices, fn_indices\n",
        "\n",
        "def print_test_tweet_by_index(index):\n",
        "  tweets, labels = get_dataset_from_github('https://raw.githubusercontent.com/josbex/HS-detection_in_social_media_posts/master/data/test_data.tsv')\n",
        "  print(\"tweet: \" + str(tweets[index]) + \" label: \" + str(labels[index]))"
      ],
      "execution_count": null,
      "outputs": [
        {
          "output_type": "stream",
          "text": [
            "/usr/local/lib/python3.6/dist-packages/statsmodels/tools/_testing.py:19: FutureWarning: pandas.util.testing is deprecated. Use the functions in the public API at pandas.testing instead.\n",
            "  import pandas.util.testing as tm\n"
          ],
          "name": "stderr"
        }
      ]
    },
    {
      "cell_type": "code",
      "metadata": {
        "id": "PLHgdOM_5bO8",
        "colab_type": "code",
        "colab": {
          "base_uri": "https://localhost:8080/",
          "height": 1000
        },
        "outputId": "97bd1b61-b53d-486b-ce31-ade5ba88d922"
      },
      "source": [
        "#To test from a saved model, model and tokenizer needs to be fetched from load_model\n",
        "#To test on a newly trained model comment out the line below (only works if training is done one time in the cells above, not the training loop)\n",
        "#model, tokenizer = load_model(\"new_training_round/best_model/model_save\")\n",
        "#This is the best model achieved so far\n",
        "model, tokenizer = load_model(\"/learn_rate_5/model_save\")\n",
        "predictions, true_labels = test(32, model, tokenizer)\n",
        "accur, f1 = get_test_accuracy_and_f1_score(predictions, true_labels)\n",
        "tn, fp, fn, tp = confusion_matrix(true_labels_flattened(true_labels), predictions_flattened(predictions)).ravel()\n",
        "cm = confusion_matrix(true_labels_flattened(true_labels), predictions_flattened(predictions))\n",
        "print(\"  Accuracy: {0:.3f}\".format(accur))\n",
        "print(\"  f-1 score: {0:.3f}\".format(f1))\n",
        "print('true negative: ' , tn, '\\nfalse negative: ', fn, '\\ntrue positive: ', tp, '\\nfalse positive: ', fp)\n",
        "#print(cm)\n",
        "tp_indices, tn_indices, fp_indices, fn_indices = determine_prediction_types(predictions_flattened(predictions), true_labels_flattened(true_labels))\n",
        "print_test_tweet_by_index(tp_indices[0])\n",
        "plot_confusion_matrix(true_labels_flattened(true_labels), predictions_flattened(predictions))"
      ],
      "execution_count": null,
      "outputs": [
        {
          "output_type": "stream",
          "text": [
            "INFO:transformers.configuration_utils:loading configuration file ./gdrive/My Drive/thesis/model//learn_rate_5/model_save/config.json\n",
            "INFO:transformers.configuration_utils:Model config BertConfig {\n",
            "  \"architectures\": [\n",
            "    \"BertForSequenceClassification\"\n",
            "  ],\n",
            "  \"attention_probs_dropout_prob\": 0.1,\n",
            "  \"gradient_checkpointing\": false,\n",
            "  \"hidden_act\": \"gelu\",\n",
            "  \"hidden_dropout_prob\": 0.1,\n",
            "  \"hidden_size\": 768,\n",
            "  \"initializer_range\": 0.02,\n",
            "  \"intermediate_size\": 3072,\n",
            "  \"layer_norm_eps\": 1e-12,\n",
            "  \"max_position_embeddings\": 512,\n",
            "  \"model_type\": \"bert\",\n",
            "  \"num_attention_heads\": 12,\n",
            "  \"num_hidden_layers\": 12,\n",
            "  \"pad_token_id\": 0,\n",
            "  \"type_vocab_size\": 2,\n",
            "  \"vocab_size\": 30522\n",
            "}\n",
            "\n",
            "INFO:transformers.modeling_utils:loading weights file ./gdrive/My Drive/thesis/model//learn_rate_5/model_save/pytorch_model.bin\n",
            "INFO:transformers.modeling_utils:All model checkpoint weights were used when initializing BertForSequenceClassification.\n",
            "\n",
            "INFO:transformers.modeling_utils:All the weights of BertForSequenceClassification were initialized from the model checkpoint at ./gdrive/My Drive/thesis/model//learn_rate_5/model_save.\n",
            "If your task is similar to the task the model of the ckeckpoint was trained on, you can already use BertForSequenceClassification for predictions without further training.\n",
            "INFO:transformers.tokenization_utils_base:Model name './gdrive/My Drive/thesis/model//learn_rate_5/model_save' not found in model shortcut name list (bert-base-uncased, bert-large-uncased, bert-base-cased, bert-large-cased, bert-base-multilingual-uncased, bert-base-multilingual-cased, bert-base-chinese, bert-base-german-cased, bert-large-uncased-whole-word-masking, bert-large-cased-whole-word-masking, bert-large-uncased-whole-word-masking-finetuned-squad, bert-large-cased-whole-word-masking-finetuned-squad, bert-base-cased-finetuned-mrpc, bert-base-german-dbmdz-cased, bert-base-german-dbmdz-uncased, TurkuNLP/bert-base-finnish-cased-v1, TurkuNLP/bert-base-finnish-uncased-v1, wietsedv/bert-base-dutch-cased). Assuming './gdrive/My Drive/thesis/model//learn_rate_5/model_save' is a path, a model identifier, or url to a directory containing tokenizer files.\n",
            "INFO:transformers.tokenization_utils_base:Didn't find file ./gdrive/My Drive/thesis/model//learn_rate_5/model_save/added_tokens.json. We won't load it.\n",
            "INFO:transformers.tokenization_utils_base:Didn't find file ./gdrive/My Drive/thesis/model//learn_rate_5/model_save/tokenizer.json. We won't load it.\n",
            "INFO:transformers.tokenization_utils_base:loading file ./gdrive/My Drive/thesis/model//learn_rate_5/model_save/vocab.txt\n",
            "INFO:transformers.tokenization_utils_base:loading file None\n",
            "INFO:transformers.tokenization_utils_base:loading file ./gdrive/My Drive/thesis/model//learn_rate_5/model_save/special_tokens_map.json\n",
            "INFO:transformers.tokenization_utils_base:loading file ./gdrive/My Drive/thesis/model//learn_rate_5/model_save/tokenizer_config.json\n",
            "INFO:transformers.tokenization_utils_base:loading file None\n"
          ],
          "name": "stderr"
        },
        {
          "output_type": "stream",
          "text": [
            "len tweets: 860\n",
            "len labels: 860\n",
            "Predicting labels for 860 test tweets...\n",
            "DONE.\n",
            "  Accuracy: 0.859\n",
            "  f-1 score: 0.827\n",
            "true negative:  556 \n",
            "false negative:  57 \n",
            "true positive:  183 \n",
            "false positive:  64\n",
            "183\n",
            "tweet: who is q wheres the server dump nike declasfisa democrats support antifa , muslim brotherhood , ms13 , isis , pedophilia , child trafficking , taxpayer funded abortion s , election fraud , sedition and treason ! ! ! lock them all up wwg 1 wga q anon @user url label: 1\n",
            "[[556  64]\n",
            " [ 57 183]]\n"
          ],
          "name": "stdout"
        },
        {
          "output_type": "display_data",
          "data": {
            "image/png": "[encoded data removed]",
            "text/plain": [
              "<Figure size 432x288 with 2 Axes>"
            ]
          },
          "metadata": {
            "tags": [],
            "needs_background": "light"
          }
        }
      ]
    },
    {
      "cell_type": "code",
      "metadata": {
        "id": "mNVqgVrB2z1M",
        "colab_type": "code",
        "colab": {
          "base_uri": "https://localhost:8080/",
          "height": 332
        },
        "outputId": "2b21063f-6f89-41b9-89bc-a964c8747991"
      },
      "source": [
        "#plot_confusion_matrix(true_labels_flattened(true_labels), predictions_flattened(predictions))\n",
        "plot_with_heatmap(true_labels_flattened(true_labels), predictions_flattened(predictions), \"Learn. rate: 2e-5\", \"2\")"
      ],
      "execution_count": null,
      "outputs": [
        {
          "output_type": "stream",
          "text": [
            "[[567  53]\n",
            " [ 77 163]]\n"
          ],
          "name": "stdout"
        },
        {
          "output_type": "display_data",
          "data": {
            "image/png": "[encoded data removed]",
            "text/plain": [
              "<Figure size 432x288 with 2 Axes>"
            ]
          },
          "metadata": {
            "tags": [],
            "needs_background": "light"
          }
        }
      ]
    },
    {
      "cell_type": "markdown",
      "metadata": {
        "id": "9KF_DYsDfdP2",
        "colab_type": "text"
      },
      "source": [
        "##Investigate the data set"
      ]
    },
    {
      "cell_type": "code",
      "metadata": {
        "id": "hQnXDmlhfhiV",
        "colab_type": "code",
        "colab": {
          "base_uri": "https://localhost:8080/",
          "height": 289
        },
        "outputId": "2f769e51-4f35-4f93-9d39-87509ed03a57"
      },
      "source": [
        "def count_occurences(labels):\n",
        "  occurences = []\n",
        "  OFFcount = np.count_nonzero(labels)\n",
        "  occurences.append(len(labels)- OFFcount)\n",
        "  occurences.append(OFFcount)\n",
        "  return occurences\n",
        "\n",
        "tweets, labels = get_dataset('90_training_data')\n",
        "labelStr = ['non-offensive', 'offensive']\n",
        "occurences = count_occurences(labels)\n",
        "\n",
        "def plot_data(occurences, labelStr, xlabel, ylabel, title, name):\n",
        "  fig = plt.figure()\n",
        "  index = np.arange(len(labelStr))\n",
        "  plt.bar(index, occurences)\n",
        "  plt.xlabel(xlabel, fontsize=5)\n",
        "  plt.ylabel(ylabel, fontsize=5)\n",
        "  plt.xticks(index, labelStr, fontsize=8)\n",
        "  plt.title(title)\n",
        "  plt.show()\n",
        "  fig.savefig(\"/content/gdrive/My Drive/thesis/dataset/\" + name + \".png\")\n",
        "\n",
        "plot_data(occurences, labelStr, 'Label', 'Nr of tweets', 'Label split of the training data', 'label_split')"
      ],
      "execution_count": null,
      "outputs": [
        {
          "output_type": "display_data",
          "data": {
            "image/png": "[encoded data removed]",
            "text/plain": [
              "<Figure size 432x288 with 1 Axes>"
            ]
          },
          "metadata": {
            "tags": [],
            "needs_background": "light"
          }
        }
      ]
    },
    {
      "cell_type": "code",
      "metadata": {
        "id": "2qCa-vEKRBoP",
        "colab_type": "code",
        "colab": {
          "base_uri": "https://localhost:8080/",
          "height": 307
        },
        "outputId": "eb7b1537-80cd-4e50-c805-4defe39d17c9"
      },
      "source": [
        "def get_token_lengths(tweets):\n",
        "  token_lenghts = []\n",
        "  for tweet in tweets:\n",
        "    encoded_tweet = tokenizer(tweet)[\"input_ids\"]\n",
        "    token_lenghts.append(len(encoded_tweet))\n",
        "  return token_lenghts\n",
        "\n",
        "def label_count(counter):\n",
        "  occurences = [0,0,0,0,0,0]\n",
        "  for key, value in counter.items():\n",
        "    if key < 51:\n",
        "      occurences[0] += value\n",
        "    elif key > 50 and key < 101:\n",
        "      occurences[1] += value\n",
        "    elif key > 100 and key < 151:\n",
        "      occurences[2] += value\n",
        "    elif key > 150 and key < 201:\n",
        "      occurences[3] += value\n",
        "    elif key > 200 and key < 251:\n",
        "      occurences[4] += value\n",
        "    else:\n",
        "      occurences[5] += value\n",
        "  return occurences\n",
        "    \n",
        "labelStr = [\"0-50\", \"51-100\", \"101-150\", \"151-200\", \"201-250\", \"251-300\"]\n",
        "token_lenghts = get_token_lengths(tweets)\n",
        "print(\"Max lenght of tweet: \", max(token_lenghts))\n",
        "counter=collections.Counter(token_lenghts)\n",
        "occurences = label_count(counter)\n",
        "print(occurences)\n",
        "plot_data(occurences, labelStr, 'Lenght range', 'Nr of tweets', 'Lenght variance of tweets', 'lenght_split')\n"
      ],
      "execution_count": null,
      "outputs": [
        {
          "output_type": "stream",
          "text": [
            "Max lenght of tweet:  234\n"
          ],
          "name": "stdout"
        },
        {
          "output_type": "display_data",
          "data": {
            "image/png": "[encoded data removed]",
            "text/plain": [
              "<Figure size 432x288 with 1 Axes>"
            ]
          },
          "metadata": {
            "tags": [],
            "needs_background": "light"
          }
        }
      ]
    },
    {
      "cell_type": "markdown",
      "metadata": {
        "id": "JhW6-SIU10kW",
        "colab_type": "text"
      },
      "source": [
        "max_length was set to 150 (+2 for the [CLS] and [SEP] tokens) since the majority of the tweets aren't longer than that. Having a smaller max_len increases the speed of the training."
      ]
    }
  ]
}